{
 "cells": [
  {
   "cell_type": "code",
   "execution_count": null,
   "id": "33e4a15f-ed91-4c01-8341-cac77ae66604",
   "metadata": {},
   "outputs": [],
   "source": [
    "import requests\n",
    "import pandas as pd\n",
    "\n",
    "# Define the URL of your Flask app\n",
    "url = \"http://localhost:5000/predict\"  # Update this with the appropriate URL"
   ]
  },
  {
   "cell_type": "code",
   "execution_count": null,
   "id": "64211680-f4c0-4c92-b23c-2f1d86b73347",
   "metadata": {},
   "outputs": [],
   "source": [
    "# Create a sample row of a Pandas DataFrame as a dictionary\n",
    "data_row = {\n",
    "    \"feature1\": 5.1,  # Update with your actual feature names and values\n",
    "    \"feature2\": 3.5,\n",
    "    \"feature3\": 1.4,\n",
    "    \"feature4\": 0.2\n",
    "}\n",
    "\n",
    "# Send a POST request with the data row as JSON\n",
    "response = requests.post(url, json=data_row)\n",
    "\n",
    "# Check if the request was successful\n",
    "if response.status_code == 200:\n",
    "    result = response.json()\n",
    "    score = result[\"prediction\"]\n",
    "    print(f\"Received score: {score}\")\n",
    "else:\n",
    "    print(f\"Request failed with status code {response.status_code}: {response.text}\")\n"
   ]
  }
 ],
 "metadata": {
  "kernelspec": {
   "display_name": "Python 3 (ipykernel)",
   "language": "python",
   "name": "python3"
  },
  "language_info": {
   "codemirror_mode": {
    "name": "ipython",
    "version": 3
   },
   "file_extension": ".py",
   "mimetype": "text/x-python",
   "name": "python",
   "nbconvert_exporter": "python",
   "pygments_lexer": "ipython3",
   "version": "3.12.0"
  }
 },
 "nbformat": 4,
 "nbformat_minor": 5
}
