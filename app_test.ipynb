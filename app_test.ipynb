{
 "cells": [
  {
   "cell_type": "code",
   "execution_count": 1,
   "id": "66daa7fc-d960-435a-9bcd-872980eac073",
   "metadata": {},
   "outputs": [],
   "source": [
    "with open('app/api_keys.txt') as f:\n",
    "    lines = f.readlines()"
   ]
  },
  {
   "cell_type": "code",
   "execution_count": 2,
   "id": "7a23074e-d8bb-487b-9c4d-18dc2de4f98a",
   "metadata": {},
   "outputs": [],
   "source": [
    "f.close()"
   ]
  },
  {
   "cell_type": "code",
   "execution_count": 3,
   "id": "bdf9675a-de84-4050-9310-7c436654c4a3",
   "metadata": {},
   "outputs": [
    {
     "data": {
      "text/plain": [
       "['your_api_key_1,your_api_key_2']"
      ]
     },
     "execution_count": 3,
     "metadata": {},
     "output_type": "execute_result"
    }
   ],
   "source": [
    "lines"
   ]
  },
  {
   "cell_type": "code",
   "execution_count": null,
   "id": "0be5cef6-c6a6-4733-a23f-d6c843de975e",
   "metadata": {},
   "outputs": [],
   "source": []
  },
  {
   "cell_type": "code",
   "execution_count": 84,
   "id": "b9a9e27a-1ebb-49bc-af55-bbd47e6fd93a",
   "metadata": {},
   "outputs": [],
   "source": [
    "import pandas as pd\n",
    "from scipy.stats import chi2_contingency, shapiro, mannwhitneyu, ttest_ind\n",
    "\n",
    "def perform_tests(data):\n",
    "    result = {\n",
    "        'mann_whitney': [],\n",
    "        'ttest': [],\n",
    "        'chi_square': [],\n",
    "        'shapiro_wilk': []\n",
    "    }\n",
    "\n",
    "    death_variable = 'death'\n",
    "    categorical_columns = [col for col in data.columns if data[col].dtype == 'int64' and col != 'death']\n",
    "    numerical_columns = [col for col in data.columns if col != 'death' and col not in categorical_columns]\n",
    "\n",
    "    # Chi-squared test for categorical variables\n",
    "    for col in categorical_columns:\n",
    "        contingency_table = pd.crosstab(data[col], data['death'])\n",
    "        _, p_value, _, _ = chi2_contingency(contingency_table)\n",
    "        result['chi_square'].append((col, round(p_value, 4)))\n",
    "\n",
    "    # Shapiro-Wilk test and subsequent t-test or Mann-Whitney U test for numerical variables\n",
    "    for col in numerical_columns:\n",
    "        group_0 = data[data['death'] == 0][col]\n",
    "        group_1 = data[data['death'] == 1][col]\n",
    "\n",
    "        _, p_value_0 = shapiro(group_0)\n",
    "        _, p_value_1 = shapiro(group_1)\n",
    "\n",
    "        result['shapiro_wilk'].append((col, (round(p_value_0, 4), round(p_value_1, 4))))\n",
    "\n",
    "        if p_value_0 > 0.05 and p_value_1 > 0.05:\n",
    "            # Use unpaired t-test\n",
    "            _, p_value = ttest_ind(group_0, group_1, equal_var=False)\n",
    "            result['ttest'].append((col, round(p_value, 4)))\n",
    "        else:\n",
    "            # Use Mann-Whitney U test\n",
    "            _, p_value = mannwhitneyu(group_0, group_1)\n",
    "            result['mann_whitney'].append((col, round(p_value, 4)))\n",
    "\n",
    "    return result"
   ]
  }
 ],
 "metadata": {
  "kernelspec": {
   "display_name": "Python 3 (ipykernel)",
   "language": "python",
   "name": "python3"
  },
  "language_info": {
   "codemirror_mode": {
    "name": "ipython",
    "version": 3
   },
   "file_extension": ".py",
   "mimetype": "text/x-python",
   "name": "python",
   "nbconvert_exporter": "python",
   "pygments_lexer": "ipython3",
   "version": "3.12.0"
  }
 },
 "nbformat": 4,
 "nbformat_minor": 5
}
