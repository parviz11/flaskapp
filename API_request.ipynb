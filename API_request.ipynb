{
 "cells": [
  {
   "cell_type": "code",
   "execution_count": 1,
   "id": "33e4a15f-ed91-4c01-8341-cac77ae66604",
   "metadata": {},
   "outputs": [],
   "source": [
    "import requests\n",
    "import pandas as pd\n",
    "import json"
   ]
  },
  {
   "cell_type": "code",
   "execution_count": 162,
   "id": "721e4b98-1a7f-4624-a26a-d568d81d28f9",
   "metadata": {},
   "outputs": [
    {
     "name": "stdout",
     "output_type": "stream",
     "text": [
      "Prediction Score: 0.9501900874348719\n"
     ]
    }
   ],
   "source": [
    "# API key and endpoint URL\n",
    "api_key = \"your_api_key_1\"\n",
    "endpoint_url = \"http://localhost:80/predict\"\n",
    "\n",
    "# Open the data file\n",
    "df = pd.read_csv(r'app/data/dataset.csv', sep=';')\n",
    "\n",
    "# Extract the row as a single-row DataFrame\n",
    "row = 199 # Modify row number\n",
    "data_row = df.iloc[[row]]\n",
    "\n",
    "# Convert the DataFrame row to a flattened dictionary\n",
    "input_data = json.loads(df.iloc[row,:].to_json())\n",
    "\n",
    "# Set the API Key header\n",
    "headers = {'Content-Type': 'application/json', 'X-API-Key': api_key}\n",
    "\n",
    "# Send the POST request to the 'predict' endpoint\n",
    "response = requests.post(endpoint_url, json=input_data, headers=headers)\n",
    "\n",
    "# Check if the request was successful (status code 200)\n",
    "if response.status_code == 200:\n",
    "    # Parse the JSON response\n",
    "    result = response.json()\n",
    "\n",
    "    # Extract the prediction score\n",
    "    prediction_score = result.get('prediction')\n",
    "\n",
    "    print(f\"Prediction Score: {prediction_score[0][0]}\")\n",
    "\n",
    "else:\n",
    "    # Print the error message if the request was not successful\n",
    "    print(f\"Request failed with status code {response.status_code}: {response.text}\")"
   ]
  }
 ],
 "metadata": {
  "kernelspec": {
   "display_name": "Python 3 (ipykernel)",
   "language": "python",
   "name": "python3"
  },
  "language_info": {
   "codemirror_mode": {
    "name": "ipython",
    "version": 3
   },
   "file_extension": ".py",
   "mimetype": "text/x-python",
   "name": "python",
   "nbconvert_exporter": "python",
   "pygments_lexer": "ipython3",
   "version": "3.12.0"
  }
 },
 "nbformat": 4,
 "nbformat_minor": 5
}
